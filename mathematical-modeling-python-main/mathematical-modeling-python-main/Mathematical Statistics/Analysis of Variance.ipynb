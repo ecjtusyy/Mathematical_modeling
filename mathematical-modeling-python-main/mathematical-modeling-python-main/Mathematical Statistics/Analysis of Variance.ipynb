{
 "cells": [
  {
   "cell_type": "markdown",
   "id": "f73f4b0d",
   "metadata": {},
   "source": [
    "# 方差分析 Analusis of Variance\n",
    "\n",
    "xyfJASON\n",
    "\n",
    "## 1 单因素方差分析\n",
    "\n",
    "考虑一个因素 $A$ 对某关心指标 $X$ 的影响，$A$ 取若干水平，每个水平上作若干试验，且每次试验控制除 $A$ 以外的其他因素不变，因而结果只受 $A$ 和随机因素的影响。我们想根据结果推断因素 $A$ 是否对指标 $X$ 有影响。\n",
    "\n",
    "> 注：$A$ 的不同水平也可以对应成若干待检测的分布，这样能检验这些分布的**均值**是否相同。\n",
    "\n",
    "### 1.1 理论\n",
    "\n",
    "取 $A$ 的若干个水平 $A_1,A_2,\\ldots,A_s$，并在水平 $A_i$ 下做 $n_i$ 次独立的试验（设一共做了 $n$ 次试验），观察指标 $X$，设第 $i$ 个水平下的第 $j$ 次试验结果为 $x_{ij}$。\n",
    "\n",
    "令 $\\bar x_i$ 表示第 $i$ 个水平下试验结果的平均值，$\\bar x$ 表示所有试验结果的平均值，$T_i$ 表示第 $i$ 个水平下所有试验结果之和，$T$ 表示所有试验结果之和，即：\n",
    "\n",
    "$$\n",
    "\\begin{align}\n",
    "&\\bar x_i=\\frac{1}{n_i}\\sum_{j=1}^{n_i}x_{ij}&&\\bar x=\\frac{1}{n}\\sum_{i=1}^s\\sum_{j=1}^{n_i}x_{ij}\n",
    "\\end{align}\n",
    "$$\n",
    "\n",
    "由于随机因素的影响，我们可以把第 $i$ 个水平的试验结果视为服从正态分布 $N(\\mu_i,\\sigma^2)$，注意这里假设不同水平试验结果的方差是相同的。我们想看 $A$ 的变化对 $X$ 是否有影响，也即提出原假设：\n",
    "\n",
    "$$\n",
    "H_0:\\mu_1=\\mu_2=\\cdots=\\mu_s\n",
    "$$\n",
    "\n",
    "备择假设 $H_1$ 自然就是 $\\mu_1,\\mu_2,\\ldots,\\mu_s$ 不完全相等。\n",
    "\n",
    "<br>\n",
    "\n",
    "为了检验该假设，我们考虑统计量**总体偏差平方和**：\n",
    "\n",
    "$$\n",
    "\\begin{align}\n",
    "S_T&=\\sum_{i=1}^s\\sum_{j=1}^{n_i}(x_{ij}-\\bar x)^2\\\\\n",
    "&=\\sum_{i=1}^sn_i(\\bar x_i-\\bar x)^2+\\sum_{i=1}^{s}\\sum_{j=1}^{n_i}(x_{ij}-\\bar x_i)^2\\\\\n",
    "&=S_A+S_E\n",
    "\\end{align}\n",
    "$$\n",
    "\n",
    "其中 $S_A$ 体现组间偏差平方和，$S_E$ 体现组内偏差平方和。\n",
    "\n",
    "根据正态分布及其导出分布的知识，可以知道，若原假设 $H_0$ 成立，则统计量\n",
    "\n",
    "$$\n",
    "F=\\frac{(n-s)S_A}{(s-1)S_E}\\sim F(s-1, n-s)\n",
    "$$\n",
    "\n",
    "于是，给定显著性水平 $\\alpha$，我们可以查表找到 $F(s-1, n-s)$ 分布的 $1-\\alpha$ 分位数，若 $F$ 大于该分位数，则拒绝原假设 $H_0$。（或等价地，如果 $\\text{p-value}$ 小于 $\\alpha$ 就拒绝原假设 $H_0$）\n",
    "\n",
    "<br>\n",
    "\n",
    "一般而言，取 $\\alpha=0.01$ 时拒绝称影响非常显著；取 $\\alpha=0.05$ 时拒绝称影响显著；否则称无显著影响。\n",
    "\n",
    "\n",
    "\n",
    "### 1.2 代码\n",
    "\n",
    "`scipy.stats.f_oneway` 提供了单因素方差分析的接口，输入若干次试验的数据，返回 $F$ 的值及其 $\\text{p-value}$。\n",
    "\n",
    "Documentation: https://docs.scipy.org/doc/scipy/reference/generated/scipy.stats.f_oneway.html"
   ]
  },
  {
   "cell_type": "markdown",
   "id": "9235b1be",
   "metadata": {},
   "source": [
    "## 2 例题\n",
    "\n",
    "\n",
    "\n",
    "### 2.1 例一\n",
    "\n",
    "为考察 5 名工人的劳动生产率是否相同，记录了每人 4 天的产量，并算出其平均值，如下表。推断他们的生产率有无显著差别。\n",
    "\n",
    "|      | $A_1$ | $A_2$ | $A_3$ | $A_4$ | $A_5$ |\n",
    "| :--: | :---: | :---: | :---: | :---: | :---: |\n",
    "|  1   |  256  |  254  |  250  |  248  |  236  |\n",
    "|  2   |  242  |  330  |  277  |  280  |  252  |\n",
    "|  3   |  280  |  290  |  230  |  305  |  220  |\n",
    "|  4   |  298  |  295  |  302  |  289  |  252  |\n",
    "\n",
    "编写代码如下（注意每一**行**一次试验）："
   ]
  },
  {
   "cell_type": "code",
   "execution_count": 1,
   "id": "502a8288",
   "metadata": {},
   "outputs": [
    {
     "data": {
      "text/plain": [
       "F_onewayResult(statistic=2.2617412494461675, pvalue=0.1109133645884241)"
      ]
     },
     "execution_count": 1,
     "metadata": {},
     "output_type": "execute_result"
    }
   ],
   "source": [
    "from scipy.stats import f_oneway\n",
    "\n",
    "\n",
    "x = [[256, 242, 280, 298],\n",
    "     [254, 330, 290, 295],\n",
    "     [250, 277, 230, 302],\n",
    "     [248, 280, 305, 289],\n",
    "     [236, 252, 220, 252]]\n",
    "res = f_oneway(*x)\n",
    "res"
   ]
  },
  {
   "cell_type": "markdown",
   "id": "6d1d83e6",
   "metadata": {},
   "source": [
    "可见 $\\text{p-value}=0.1109$，高于 $0.05$，故无显著差别。"
   ]
  },
  {
   "cell_type": "markdown",
   "id": "bd00337f",
   "metadata": {},
   "source": [
    "### 2.2 例二\n",
    "\n",
    "用4种工艺生产灯泡，从各种工艺制成的灯泡中各抽出了若干个测量其寿命， 结果如下表，试推断这几种工艺制成的灯泡寿命是否有显著差异。\n",
    "\n",
    "|      | $A_1$ | $A_2$ | $A_3$ | $A_4$ |\n",
    "| :--: | :---: | :---: | :---: | :---: |\n",
    "|  1   | 1620  | 1580  | 1460  | 1500  |\n",
    "|  2   | 1670  | 1600  | 1540  | 1550  |\n",
    "|  3   | 1700  | 1640  | 1620  | 1610  |\n",
    "|  4   | 1750  | 1720  |       | 1680  |\n",
    "|  5   | 1800  |       |       |       |\n",
    "\n",
    "编写代码如下："
   ]
  },
  {
   "cell_type": "code",
   "execution_count": 2,
   "id": "801b0bef",
   "metadata": {},
   "outputs": [
    {
     "data": {
      "text/plain": [
       "F_onewayResult(statistic=4.060762766645119, pvalue=0.03314955139443403)"
      ]
     },
     "execution_count": 2,
     "metadata": {},
     "output_type": "execute_result"
    }
   ],
   "source": [
    "x = [[1620, 1670, 1700, 1750, 1800],\n",
    "     [1580, 1600, 1640, 1720],\n",
    "     [1460, 1540, 1620],\n",
    "     [1500, 1550, 1610, 1680]]\n",
    "res = f_oneway(*x)\n",
    "res"
   ]
  },
  {
   "cell_type": "markdown",
   "id": "173f408e",
   "metadata": {},
   "source": [
    "可见 $\\text{p-value}=0.0331$，故有显著差异。"
   ]
  }
 ],
 "metadata": {
  "kernelspec": {
   "display_name": "Python 3 (ipykernel)",
   "language": "python",
   "name": "python3"
  },
  "language_info": {
   "codemirror_mode": {
    "name": "ipython",
    "version": 3
   },
   "file_extension": ".py",
   "mimetype": "text/x-python",
   "name": "python",
   "nbconvert_exporter": "python",
   "pygments_lexer": "ipython3",
   "version": "3.9.4"
  }
 },
 "nbformat": 4,
 "nbformat_minor": 5
}
