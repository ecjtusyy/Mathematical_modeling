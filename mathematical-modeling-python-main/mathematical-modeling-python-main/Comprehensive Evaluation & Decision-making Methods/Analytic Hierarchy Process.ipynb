{
 "cells": [
  {
   "cell_type": "markdown",
   "id": "7f66c436",
   "metadata": {},
   "source": [
    "# 层次分析法 Analytic Hierarchy Process\n",
    "\n",
    "xyfJASON\n",
    "\n",
    "## 1 理论\n",
    "\n",
    "在许多问题中，我们会面临若干选项进行选择，层次分析法（AHP）可以帮助我们对一些较为复杂、模糊的问题做出决策。层次分析法是一个主观性较强的方法，特别适用于难以定量分析的问题。\n",
    "\n",
    "层次分析法的步骤如下：\n",
    "\n",
    "1. 建立层次结构\n",
    "2. 各层次建立判别矩阵\n",
    "3. 层次单排序、一致性检验\n",
    "4. 层次总排序、一致性检验\n",
    "\n",
    "\n",
    "\n",
    "### 1.1 建立层次结构\n",
    "\n",
    "一个复杂问题被分解为若干元素，元素构成一种层次的结构，前一层影响后一层。例如：\n",
    "\n",
    "<img src=\"img/AHP.png\" style=\"zoom: 33%;\" />\n",
    "\n",
    "目标层只有一个元素，一般是问题的目标或结果；\n",
    "\n",
    "准则层可以有多个层次，主要是一些指标和准则；\n",
    "\n",
    "措施层包含可供选择的若干选项。\n",
    "\n",
    "\n",
    "\n",
    "### 1.2 各层次建立判别矩阵\n",
    "\n",
    "对于某一层而言，假设该层有 $n$ 个元素，对于更高一层的某一个元素 $Z$，建立判别矩阵 $A=(a_{ij})_{n\\times n}$，满足：\n",
    "\n",
    "1. $a_{ij}>0$ 且 $a_{ji}=\\frac{1}{a_{ij}}$\n",
    "\n",
    "2. $a_{ij}$ 的含义为：\n",
    "\n",
    "   <img src=\"img/AHP2.png\" style=\"zoom: 50%;\" />\n",
    "\n",
    "\n",
    "\n",
    "### 1.3 层次单排序、一致性检验\n",
    "\n",
    "取出判别矩阵 $A$ 的最大特征值 $\\lambda_\\max$ 对应的特征向量 $W$，归一化后即得到该层各元素相对于高一层元素 $Z$ 的权重。\n",
    "\n",
    "一致性：$a_{ij}a_{jk}=a_{ik}$\n",
    "\n",
    "由于判别矩阵是人为构造的，一般不会满足一致性，因而我们需要做一致性检验，只要不差得太离谱即可。\n",
    "\n",
    "一致性检验步骤如下：\n",
    "\n",
    "1. 计算一致性指标\n",
    "\n",
    "   $$\n",
    "   CI=\\frac{\\lambda_\\max-n}{n-1}\n",
    "   $$\n",
    "\n",
    "2. 查找相应的平均随机一致性指标\n",
    "\n",
    "   | $n$  |  1   |  2   |  3   |  4   |  5   |  6   |  7   |  8   |  9   |  10  |\n",
    "   | :--: | :--: | :--: | :--: | :--: | :--: | :--: | :--: | :--: | :--: | :--: |\n",
    "   | $RI$ |  0   |  0   | 0.58 | 0.90 | 1.12 | 1.24 | 1.32 | 1.41 | 1.45 | 1.49 |\n",
    "\n",
    "3. 计算一致性比例\n",
    "\n",
    "   $$\n",
    "   CR=\\frac{CI}{RI}\n",
    "   $$\n",
    "   \n",
    "   若 $CR<0.10$，认为判别矩阵的一致性可以接受，否则需要对判别矩阵进行修正。\n",
    "\n",
    "\n",
    "\n",
    "### 1.4 层次总排序、一致性检验\n",
    "\n",
    "自上而下将计算总权重。具体地，设高一层的总权重已计算出来，为 $a_1,\\ldots,a_m$，根据前一个步骤，已知当前层的每个元素对高一层每个元素都有一个权重 $b_{ij},\\,i=1,\\cdots,n,\\,j=1,\\ldots,m$，则当前层总权重为：\n",
    "\n",
    "$$\n",
    "b_i=\\sum_{j=1}^ma_{j}b_{ij},\\quad i=1,\\ldots,n\n",
    "$$\n",
    "\n",
    "虽然每一层已经做过一致性检验了，但是不一致性可能在结果中叠加，因而还需作一致性检验。具体地，对于高一层的第 $j$ 个元素，在层次单排序时已经得到了当前层的一致性指标 $CI(j)$ 和相应平均随机一致性指标 $RI(j)$，则当前层一致性比例为：\n",
    "\n",
    "$$\n",
    "CR=\\frac{\\sum\\limits_{j=1}^ma_j\\cdot CI(j)}{\\sum\\limits_{j=1}^ma_j\\cdot RI(j)}\n",
    "$$\n",
    "\n",
    "若 $CR<0.10$，接受一致性。"
   ]
  },
  {
   "cell_type": "markdown",
   "id": "88e4ae14",
   "metadata": {},
   "source": [
    "## 2 代码模板\n",
    "\n",
    "见同一文件夹下的 `evaluation.py` 模块。"
   ]
  },
  {
   "cell_type": "markdown",
   "id": "772985ec",
   "metadata": {},
   "source": [
    "## 3 例题\n",
    "\n",
    "\n",
    "经双方恳谈，已有三个单位表示愿意录用某毕业生。该生根据已有信息建立了一个层次结构模型，模型结构和相应判别矩阵如图所示：\n",
    "\n",
    "<img src=\"img/AHP3.png\" style=\"zoom:67%;\" />\n",
    "\n",
    "编写代码如下："
   ]
  },
  {
   "cell_type": "code",
   "execution_count": 1,
   "id": "ba65eac7",
   "metadata": {},
   "outputs": [
    {
     "data": {
      "text/plain": [
       "array([0.3951982 , 0.29962129, 0.30518051])"
      ]
     },
     "execution_count": 1,
     "metadata": {},
     "output_type": "execute_result"
    }
   ],
   "source": [
    "import numpy as np\n",
    "from evaluation import AHP\n",
    "\n",
    "CB1 = np.array([[1, 1/4, 1/2], [4, 1, 3], [2, 1/3, 1]])\n",
    "CB2 = np.array([[1, 1/4, 1/5], [4, 1, 1/2], [5, 2, 1]])\n",
    "CB3 = np.array([[1, 3, 1/3], [1/3, 1, 1/7], [3, 7, 1]])\n",
    "CB4 = np.array([[1, 1/3, 5], [3, 1, 7], [1/5, 1/7, 1]])\n",
    "CB5 = np.array([[1, 1, 7], [1, 1, 7], [1/7, 1/7, 1]])\n",
    "CB6 = np.array([[1, 7, 9], [1/7, 1, 1], [1/9, 1, 1]])\n",
    "BA = np.array([[1, 1, 1, 4, 1, 1/2],\n",
    "               [1, 1, 2, 4, 1, 1/2],\n",
    "               [1, 1/2, 1, 5, 3, 1/2],\n",
    "               [1/4, 1/4, 1/5, 1, 1/3, 1/3],\n",
    "               [1, 1, 1/3, 3, 1, 1],\n",
    "               [2, 2, 2, 3, 3, 1]])\n",
    "judge_mat = [[CB1, CB2, CB3, CB4, CB5, CB6], [BA]]\n",
    "\n",
    "solver = AHP([3, 6, 1], judge_mat)\n",
    "res = solver.run()\n",
    "res"
   ]
  },
  {
   "cell_type": "markdown",
   "id": "4804a084",
   "metadata": {},
   "source": [
    "由于第 1 个权重最大，故选择工作 1。"
   ]
  }
 ],
 "metadata": {
  "kernelspec": {
   "display_name": "Python 3 (ipykernel)",
   "language": "python",
   "name": "python3"
  },
  "language_info": {
   "codemirror_mode": {
    "name": "ipython",
    "version": 3
   },
   "file_extension": ".py",
   "mimetype": "text/x-python",
   "name": "python",
   "nbconvert_exporter": "python",
   "pygments_lexer": "ipython3",
   "version": "3.9.4"
  }
 },
 "nbformat": 4,
 "nbformat_minor": 5
}
