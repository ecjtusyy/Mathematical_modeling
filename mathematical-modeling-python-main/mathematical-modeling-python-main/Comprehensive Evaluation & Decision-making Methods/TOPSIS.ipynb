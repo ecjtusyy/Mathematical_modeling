{
 "cells": [
  {
   "cell_type": "markdown",
   "id": "bba25327",
   "metadata": {},
   "source": [
    "# 理想解法 TOPSIS\n",
    "\n",
    "xyfJASON\n",
    "\n",
    "## 1 简述\n",
    "\n",
    "设我们有 $n$ 个决策对象，每个对象有 $m$ 个指标（**已事先正向化处理**）。我们将各个指标中最好的数据合并起来得到**正理想解**，最差的数据合并起来得到 **负理想解**，计算每个决策对象到正理想解和负理想解的距离，既靠近正理想解又远离负理想解的就是最好的对象，并且可以据此对各个对象进行排序。\n",
    "\n",
    "## 2 步骤\n",
    "\n",
    "1. 设决策矩阵为 $(a_{ij})_{m\\times n}$，即第 $i$ 个对象的第 $j$ 个指标为 $a_{ij}$（**已正向化**），对其进行向量规范化，得到规范化决策矩阵 $(b_{ij})_{m\\times n}$：\n",
    "\n",
    "   $$\n",
    "   b_{ij}=\\frac{a_{ij}}{\\sqrt{\\sum\\limits_{i=1}^ma_{ij}^2}}\n",
    "   $$\n",
    "\n",
    "\n",
    "2. 构造加权规范化决策矩阵 $(c_{ij})_{m\\times n}$：\n",
    "\n",
    "   $$\n",
    "   c_{ij}=w_j\\cdot b_{ij}\n",
    "   $$\n",
    "\n",
    "\n",
    "3. 确定正理想解 $C^*$ 和负理想解 $C^0$：\n",
    "\n",
    "   $$\n",
    "   \\begin{cases}\n",
    "   c^*_j=\\max\\limits_{i=1}^m c_{ij}&j=1,2,\\ldots,n\\\\\n",
    "   c^0_j=\\min\\limits_{i=1}^m c_{ij}&j=1,2,\\ldots,n\n",
    "   \\end{cases}\n",
    "   $$\n",
    "\n",
    "\n",
    "4. 计算各决策对象到正负理想解的距离（欧几里得距离）：\n",
    "\n",
    "   $$\n",
    "   \\begin{cases}\n",
    "   d^*_i=||c_i-C^*||_2=\\sqrt{\\sum\\limits_{j=1}^n(c_{ij}-c_j^*)^2}\\\\\n",
    "   d^0_i=||c_i-C^0||_2=\\sqrt{\\sum\\limits_{j=1}^n(c_{ij}-c_j^0)^2}\n",
    "   \\end{cases}\n",
    "   $$\n",
    "   \n",
    "   计算综合评价指标：\n",
    "   \n",
    "   $$\n",
    "   f_i=\\frac{d_i^0}{d_i^0+d_i^*}\n",
    "   $$\n",
    "\n",
    "\n",
    "5. 根据综合评价指标的大小从大到小排序，值越大，评价结果越好\n"
   ]
  },
  {
   "cell_type": "markdown",
   "id": "dc30e4e5",
   "metadata": {},
   "source": [
    "## 3 代码模板\n",
    "\n",
    "见同文件夹下的 `evaluation.py` 模块。"
   ]
  },
  {
   "cell_type": "markdown",
   "id": "4a92a1f3",
   "metadata": {},
   "source": [
    "## 4 实例\n",
    "\n",
    "5 所研究生院的相关数据资料如下："
   ]
  },
  {
   "cell_type": "code",
   "execution_count": 1,
   "id": "6f3175cc",
   "metadata": {},
   "outputs": [
    {
     "data": {
      "text/html": [
       "<div>\n",
       "<style scoped>\n",
       "    .dataframe tbody tr th:only-of-type {\n",
       "        vertical-align: middle;\n",
       "    }\n",
       "\n",
       "    .dataframe tbody tr th {\n",
       "        vertical-align: top;\n",
       "    }\n",
       "\n",
       "    .dataframe thead th {\n",
       "        text-align: right;\n",
       "    }\n",
       "</style>\n",
       "<table border=\"1\" class=\"dataframe\">\n",
       "  <thead>\n",
       "    <tr style=\"text-align: right;\">\n",
       "      <th></th>\n",
       "      <th>人均专著</th>\n",
       "      <th>生师比</th>\n",
       "      <th>科研经费</th>\n",
       "      <th>逾期毕业率</th>\n",
       "    </tr>\n",
       "  </thead>\n",
       "  <tbody>\n",
       "    <tr>\n",
       "      <th>1</th>\n",
       "      <td>0.1</td>\n",
       "      <td>5</td>\n",
       "      <td>5000</td>\n",
       "      <td>4.7</td>\n",
       "    </tr>\n",
       "    <tr>\n",
       "      <th>2</th>\n",
       "      <td>0.2</td>\n",
       "      <td>6</td>\n",
       "      <td>6000</td>\n",
       "      <td>5.6</td>\n",
       "    </tr>\n",
       "    <tr>\n",
       "      <th>3</th>\n",
       "      <td>0.4</td>\n",
       "      <td>7</td>\n",
       "      <td>7000</td>\n",
       "      <td>6.7</td>\n",
       "    </tr>\n",
       "    <tr>\n",
       "      <th>4</th>\n",
       "      <td>0.9</td>\n",
       "      <td>10</td>\n",
       "      <td>10000</td>\n",
       "      <td>2.3</td>\n",
       "    </tr>\n",
       "    <tr>\n",
       "      <th>5</th>\n",
       "      <td>1.2</td>\n",
       "      <td>2</td>\n",
       "      <td>400</td>\n",
       "      <td>1.8</td>\n",
       "    </tr>\n",
       "  </tbody>\n",
       "</table>\n",
       "</div>"
      ],
      "text/plain": [
       "   人均专著  生师比   科研经费  逾期毕业率\n",
       "1   0.1    5   5000    4.7\n",
       "2   0.2    6   6000    5.6\n",
       "3   0.4    7   7000    6.7\n",
       "4   0.9   10  10000    2.3\n",
       "5   1.2    2    400    1.8"
      ]
     },
     "execution_count": 1,
     "metadata": {},
     "output_type": "execute_result"
    }
   ],
   "source": [
    "import pandas as pd\n",
    "\n",
    "df = pd.DataFrame([[0.1, 5, 5000, 4.7],\n",
    "                   [0.2, 6, 6000, 5.6],\n",
    "                   [0.4, 7, 7000, 6.7],\n",
    "                   [0.9, 10, 10000, 2.3],\n",
    "                   [1.2, 2, 400, 1.8]])\n",
    "df.columns = ['人均专著', '生师比', '科研经费', '逾期毕业率']\n",
    "df.index = list('12345')\n",
    "df"
   ]
  },
  {
   "cell_type": "markdown",
   "id": "efe9405b",
   "metadata": {},
   "source": [
    "其中人均专著、科研经费是极大型数据，逾期毕业率是极小型数据，生师比是区间型数据，最佳区间为 $[5,6]$，下面对数据进行正向化处理"
   ]
  },
  {
   "cell_type": "code",
   "execution_count": 2,
   "id": "bab13157",
   "metadata": {},
   "outputs": [
    {
     "data": {
      "text/html": [
       "<div>\n",
       "<style scoped>\n",
       "    .dataframe tbody tr th:only-of-type {\n",
       "        vertical-align: middle;\n",
       "    }\n",
       "\n",
       "    .dataframe tbody tr th {\n",
       "        vertical-align: top;\n",
       "    }\n",
       "\n",
       "    .dataframe thead th {\n",
       "        text-align: right;\n",
       "    }\n",
       "</style>\n",
       "<table border=\"1\" class=\"dataframe\">\n",
       "  <thead>\n",
       "    <tr style=\"text-align: right;\">\n",
       "      <th></th>\n",
       "      <th>人均专著</th>\n",
       "      <th>生师比</th>\n",
       "      <th>科研经费</th>\n",
       "      <th>逾期毕业率</th>\n",
       "    </tr>\n",
       "  </thead>\n",
       "  <tbody>\n",
       "    <tr>\n",
       "      <th>1</th>\n",
       "      <td>0.000000</td>\n",
       "      <td>1.000000e+00</td>\n",
       "      <td>0.479167</td>\n",
       "      <td>0.408163</td>\n",
       "    </tr>\n",
       "    <tr>\n",
       "      <th>2</th>\n",
       "      <td>0.090909</td>\n",
       "      <td>1.000000e+00</td>\n",
       "      <td>0.583333</td>\n",
       "      <td>0.224490</td>\n",
       "    </tr>\n",
       "    <tr>\n",
       "      <th>3</th>\n",
       "      <td>0.272727</td>\n",
       "      <td>7.500000e-01</td>\n",
       "      <td>0.687500</td>\n",
       "      <td>0.000000</td>\n",
       "    </tr>\n",
       "    <tr>\n",
       "      <th>4</th>\n",
       "      <td>0.727273</td>\n",
       "      <td>2.500222e-13</td>\n",
       "      <td>1.000000</td>\n",
       "      <td>0.897959</td>\n",
       "    </tr>\n",
       "    <tr>\n",
       "      <th>5</th>\n",
       "      <td>1.000000</td>\n",
       "      <td>2.500000e-01</td>\n",
       "      <td>0.000000</td>\n",
       "      <td>1.000000</td>\n",
       "    </tr>\n",
       "  </tbody>\n",
       "</table>\n",
       "</div>"
      ],
      "text/plain": [
       "       人均专著           生师比      科研经费     逾期毕业率\n",
       "1  0.000000  1.000000e+00  0.479167  0.408163\n",
       "2  0.090909  1.000000e+00  0.583333  0.224490\n",
       "3  0.272727  7.500000e-01  0.687500  0.000000\n",
       "4  0.727273  2.500222e-13  1.000000  0.897959\n",
       "5  1.000000  2.500000e-01  0.000000  1.000000"
      ]
     },
     "execution_count": 2,
     "metadata": {},
     "output_type": "execute_result"
    }
   ],
   "source": [
    "import numpy as np\n",
    "from evaluation import positive_scale\n",
    "\n",
    "kind = np.array([0, 3, 0, 1])\n",
    "interval_best = np.zeros((4, 2))\n",
    "interval_best[1, :] = np.array([5, 6])\n",
    "df.iloc[:, :] = positive_scale(x=df.values, kind=kind, interval_best=interval_best)\n",
    "df"
   ]
  },
  {
   "cell_type": "markdown",
   "id": "2e1b7187",
   "metadata": {},
   "source": [
    "取权重为 $[0.2, 0.3, 0.4, 0.1]$，按 TOPSIS 法计算最终的指标"
   ]
  },
  {
   "cell_type": "code",
   "execution_count": 3,
   "id": "31bf158d",
   "metadata": {},
   "outputs": [
    {
     "data": {
      "text/plain": [
       "array([0.5131253 , 0.5626838 , 0.59095594, 0.61892515, 0.36374483])"
      ]
     },
     "execution_count": 3,
     "metadata": {},
     "output_type": "execute_result"
    }
   ],
   "source": [
    "from evaluation import TOPSIS\n",
    "\n",
    "solver = TOPSIS(x=df.values, weights=np.array([.2, .3, .4, .1]))\n",
    "res = solver.run()\n",
    "res"
   ]
  },
  {
   "cell_type": "markdown",
   "id": "702e5b84",
   "metadata": {},
   "source": [
    "由大到小排序，可知研究生院从优到劣的次序为 4,3,2,1,5"
   ]
  }
 ],
 "metadata": {
  "kernelspec": {
   "display_name": "Python 3 (ipykernel)",
   "language": "python",
   "name": "python3"
  },
  "language_info": {
   "codemirror_mode": {
    "name": "ipython",
    "version": 3
   },
   "file_extension": ".py",
   "mimetype": "text/x-python",
   "name": "python",
   "nbconvert_exporter": "python",
   "pygments_lexer": "ipython3",
   "version": "3.9.4"
  }
 },
 "nbformat": 4,
 "nbformat_minor": 5
}
