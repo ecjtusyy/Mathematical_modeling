{
 "cells": [
  {
   "cell_type": "markdown",
   "id": "b3929537",
   "metadata": {},
   "source": [
    "# 主成分分析\n",
    "\n",
    "## 1 基本思想与方法\n",
    "\n",
    "### 1.1 基本思想\n",
    "\n",
    "考虑随机变量 $X=(X_1,X_2,\\cdots,X_p)$ 与权重 $c_1,c_2,\\cdots,c_p$，寻找向量 $C=(c_1,c_2,\\cdots,c_p)$ 使得\n",
    "\n",
    "$$\n",
    "max s=X\\cdot C=\\sum\\limits_{i=1}^pc_i\\cdot X_i\\\\\n",
    "|C|=1\n",
    "$$\n",
    "\n",
    "其中 $Z=C\\cdot X$ 称为主成分。寻找若干向量 $C_i$ 使得 $C_i$ 满足上述条件且任意 $C_i$ 之间正交，从中选取 $k$ 个向量，可以将原来 $p$ 维数据降至 $k$ 维，从而便于数据挖掘与分析\n",
    "\n",
    "### 1.2 方法\n",
    "\n",
    "设有多元随机变量 $X$ 有 $p$ 个指标变量 $x_1,x_2,\\cdots,x_p$，其在第 $i$ 次试验中取值为\n",
    "\n",
    "$$\n",
    "a_{i1},a_{i2},\\cdots,a_{ip},i=1,2,\\cdots,n\n",
    "$$\n",
    "\n",
    "将其写成矩阵形式\n",
    "\n",
    "$$\n",
    "A=\\begin{bmatrix}\n",
    "a_{11}&a_{12}&\\cdots&a_{1p}\\\\\n",
    "a_{21}&a_{22}&\\cdots&a_{2p}\\\\\n",
    "\\vdots&\\vdots&\\ddots&\\vdots\\\\\n",
    "a_{n1}&a_{n2}&\\cdots&a_{np}\\\\\n",
    "\\end{bmatrix}\n",
    "$$\n",
    "\n",
    "其中 $A^TA$ 的特征向量即为主成分系数 $C$（限于时间有限，没有深入了解推导过程），保留部分特征向量，通常约定保留的特征向量对应特征值之和占总特征值之和的 85% 以上。\n",
    "\n",
    "也可以对数据进行标准化，将标准化数据矩阵记为 $\\tilde{A}$，随后得到相关系数矩阵 $R={\\tilde{A}}^T\\tilde{A}/(n-1)$，接着计算相关系数矩阵 $R$ 的特征值和特征向量即可。\n",
    "\n",
    "除上述 85% 指标外，有时也需要考虑其对原变量 $x_i$ 的贡献值，主成分 $z_j$ 对原变量 $x_i$ 的贡献值为\n",
    "\n",
    "$$\n",
    "\\rho=\\sum\\limits_{j=1}^rr^2(z_j,x_i)\n",
    "$$"
   ]
  },
  {
   "cell_type": "markdown",
   "id": "81895064",
   "metadata": {},
   "source": [
    "## 2 案例\n",
    "\n",
    "### 2.1 Hald 水泥问题（主成分回归分析）"
   ]
  },
  {
   "cell_type": "markdown",
   "id": "ab219de0",
   "metadata": {},
   "source": [
    "考察含四种成分化学 x1,x2,x3,x4 的水泥，每一克释放的热量 y 与四种含量之间的关系数据共 13 组，建立 y 与四种化学成分的函数关系。"
   ]
  },
  {
   "cell_type": "code",
   "execution_count": 1,
   "id": "4eb7420e",
   "metadata": {},
   "outputs": [
    {
     "data": {
      "text/html": [
       "<div>\n",
       "<style scoped>\n",
       "    .dataframe tbody tr th:only-of-type {\n",
       "        vertical-align: middle;\n",
       "    }\n",
       "\n",
       "    .dataframe tbody tr th {\n",
       "        vertical-align: top;\n",
       "    }\n",
       "\n",
       "    .dataframe thead th {\n",
       "        text-align: right;\n",
       "    }\n",
       "</style>\n",
       "<table border=\"1\" class=\"dataframe\">\n",
       "  <thead>\n",
       "    <tr style=\"text-align: right;\">\n",
       "      <th></th>\n",
       "      <th>x1</th>\n",
       "      <th>x2</th>\n",
       "      <th>x3</th>\n",
       "      <th>x4</th>\n",
       "      <th>y</th>\n",
       "    </tr>\n",
       "  </thead>\n",
       "  <tbody>\n",
       "    <tr>\n",
       "      <th>0</th>\n",
       "      <td>7</td>\n",
       "      <td>26</td>\n",
       "      <td>6</td>\n",
       "      <td>60</td>\n",
       "      <td>78.5</td>\n",
       "    </tr>\n",
       "    <tr>\n",
       "      <th>1</th>\n",
       "      <td>1</td>\n",
       "      <td>29</td>\n",
       "      <td>15</td>\n",
       "      <td>52</td>\n",
       "      <td>74.3</td>\n",
       "    </tr>\n",
       "    <tr>\n",
       "      <th>2</th>\n",
       "      <td>11</td>\n",
       "      <td>56</td>\n",
       "      <td>8</td>\n",
       "      <td>20</td>\n",
       "      <td>104.3</td>\n",
       "    </tr>\n",
       "    <tr>\n",
       "      <th>3</th>\n",
       "      <td>11</td>\n",
       "      <td>31</td>\n",
       "      <td>8</td>\n",
       "      <td>47</td>\n",
       "      <td>87.6</td>\n",
       "    </tr>\n",
       "    <tr>\n",
       "      <th>4</th>\n",
       "      <td>7</td>\n",
       "      <td>52</td>\n",
       "      <td>6</td>\n",
       "      <td>33</td>\n",
       "      <td>95.9</td>\n",
       "    </tr>\n",
       "    <tr>\n",
       "      <th>5</th>\n",
       "      <td>11</td>\n",
       "      <td>55</td>\n",
       "      <td>9</td>\n",
       "      <td>22</td>\n",
       "      <td>109.2</td>\n",
       "    </tr>\n",
       "    <tr>\n",
       "      <th>6</th>\n",
       "      <td>3</td>\n",
       "      <td>71</td>\n",
       "      <td>17</td>\n",
       "      <td>6</td>\n",
       "      <td>102.7</td>\n",
       "    </tr>\n",
       "    <tr>\n",
       "      <th>7</th>\n",
       "      <td>1</td>\n",
       "      <td>31</td>\n",
       "      <td>22</td>\n",
       "      <td>44</td>\n",
       "      <td>72.5</td>\n",
       "    </tr>\n",
       "    <tr>\n",
       "      <th>8</th>\n",
       "      <td>2</td>\n",
       "      <td>54</td>\n",
       "      <td>18</td>\n",
       "      <td>22</td>\n",
       "      <td>93.1</td>\n",
       "    </tr>\n",
       "    <tr>\n",
       "      <th>9</th>\n",
       "      <td>21</td>\n",
       "      <td>47</td>\n",
       "      <td>4</td>\n",
       "      <td>26</td>\n",
       "      <td>115.9</td>\n",
       "    </tr>\n",
       "    <tr>\n",
       "      <th>10</th>\n",
       "      <td>1</td>\n",
       "      <td>40</td>\n",
       "      <td>23</td>\n",
       "      <td>34</td>\n",
       "      <td>83.8</td>\n",
       "    </tr>\n",
       "    <tr>\n",
       "      <th>11</th>\n",
       "      <td>11</td>\n",
       "      <td>66</td>\n",
       "      <td>9</td>\n",
       "      <td>12</td>\n",
       "      <td>113.3</td>\n",
       "    </tr>\n",
       "    <tr>\n",
       "      <th>12</th>\n",
       "      <td>10</td>\n",
       "      <td>68</td>\n",
       "      <td>8</td>\n",
       "      <td>12</td>\n",
       "      <td>109.4</td>\n",
       "    </tr>\n",
       "  </tbody>\n",
       "</table>\n",
       "</div>"
      ],
      "text/plain": [
       "    x1  x2  x3  x4      y\n",
       "0    7  26   6  60   78.5\n",
       "1    1  29  15  52   74.3\n",
       "2   11  56   8  20  104.3\n",
       "3   11  31   8  47   87.6\n",
       "4    7  52   6  33   95.9\n",
       "5   11  55   9  22  109.2\n",
       "6    3  71  17   6  102.7\n",
       "7    1  31  22  44   72.5\n",
       "8    2  54  18  22   93.1\n",
       "9   21  47   4  26  115.9\n",
       "10   1  40  23  34   83.8\n",
       "11  11  66   9  12  113.3\n",
       "12  10  68   8  12  109.4"
      ]
     },
     "execution_count": 1,
     "metadata": {},
     "output_type": "execute_result"
    }
   ],
   "source": [
    "import numpy as np\n",
    "import pandas as pd\n",
    "\n",
    "df = pd.read_csv('./data/sn.txt', sep='\\t', header=None)\n",
    "df.columns = ['x1', 'x2', 'x3', 'x4', 'y']\n",
    "df"
   ]
  },
  {
   "cell_type": "code",
   "execution_count": 2,
   "id": "3d31172a",
   "metadata": {},
   "outputs": [
    {
     "name": "stdout",
     "output_type": "stream",
     "text": [
      "[[ 1.          0.22857947 -0.82413376 -0.24544511]\n",
      " [ 0.22857947  1.         -0.13924238 -0.972955  ]\n",
      " [-0.82413376 -0.13924238  1.          0.029537  ]\n",
      " [-0.24544511 -0.972955    0.029537    1.        ]]\n"
     ]
    }
   ],
   "source": [
    "from sklearn.preprocessing import StandardScaler\n",
    "\n",
    "data_x = df.values[:, :4]\n",
    "data_y = df.values[:, -1]\n",
    "\n",
    "# 标准化数据\n",
    "std_data = StandardScaler().fit_transform(df.values)\n",
    "std_x = std_data[:, :4]\n",
    "std_y = std_data[:, -1]\n",
    "\n",
    "# 相关系数矩阵\n",
    "r = np.corrcoef(data_x.T)\n",
    "print(r)"
   ]
  },
  {
   "cell_type": "code",
   "execution_count": 3,
   "id": "1991a735",
   "metadata": {},
   "outputs": [
    {
     "name": "stdout",
     "output_type": "stream",
     "text": [
      "[2.23570403e+00 1.57606607e+00 1.86606149e-01 1.62374573e-03]\n"
     ]
    }
   ],
   "source": [
    "# 得到相关系数矩阵特征值与特征向量\n",
    "eigenvalue, featurevector = np.linalg.eig(r)\n",
    "print(eigenvalue)\n",
    "\n",
    "# 使得每一个特征值的所有分量和为正\n",
    "# 注意，每一列是特征向量而非行\n",
    "f = np.sign(np.sum(featurevector, axis=0))\n",
    "featurevector = f.reshape(1, -1)*featurevector"
   ]
  },
  {
   "cell_type": "markdown",
   "id": "4a6b1cbc",
   "metadata": {},
   "source": [
    "特征值分别为 2.235,1.576,0.187,0.0016，略去第 4 个主成分，保留前三个特征值对应的三个特征向量，并计算前三个主成分"
   ]
  },
  {
   "cell_type": "code",
   "execution_count": 4,
   "id": "ae968d0c",
   "metadata": {},
   "outputs": [],
   "source": [
    "# 前三个特征向量，即主成分系数\n",
    "c = featurevector[:, :3]\n",
    "# 降维的数据\n",
    "data_xx = std_x.dot(c)"
   ]
  },
  {
   "cell_type": "markdown",
   "id": "1284ec29",
   "metadata": {},
   "source": [
    "使用原始数据和降维后的数据做回归分析，并进行比较"
   ]
  },
  {
   "cell_type": "code",
   "execution_count": 5,
   "id": "9e5803a2",
   "metadata": {},
   "outputs": [
    {
     "name": "stdout",
     "output_type": "stream",
     "text": [
      "原始数据回归方程系数为 [62.4053493   1.55110282  0.5101678   0.10190955 -0.14406082]\n",
      "主成分回归方程系数为   [-2.33405018e-10  6.56958050e-01  8.30863185e-03  3.02770243e-01]\n",
      "标准化变量方程系数为   [ 0.51297502  0.27868115 -0.06078483 -0.42288461]\n",
      "转化成原始自变量系数为 [85.74326351  1.3118899   0.26941931 -0.14276536 -0.3800747 ]\n"
     ]
    }
   ],
   "source": [
    "from scipy.optimize import leastsq\n",
    "from sklearn.linear_model import LinearRegression as LR\n",
    "\n",
    "# 定义误差函数\n",
    "def residuals(p, x, y):\n",
    "    return p[0] + x.dot(p[1:]) - y\n",
    "\n",
    "# 计算原始数据回归方程系数\n",
    "para1 = np.zeros(5)\n",
    "r1 = leastsq(residuals, para1, (data_x, data_y))\n",
    "# 计算主成分回归方程系数\n",
    "para2 = np.zeros(4)\n",
    "r2 = leastsq(residuals, para2, (data_xx, std_y))\n",
    "r22 = c.dot(r2[0][1:])\n",
    "r23 = r22 * data_y.std()/data_x.std(axis=0)\n",
    "r23 = np.insert(r23, 0, data_y.mean() - data_x.mean(axis=0).dot(r23))\n",
    "\n",
    "# # 另外一种回归方法\n",
    "# r1 = LR().fit(data_x, data_y)\n",
    "# print(r1.intercept_, r1.coef_)\n",
    "# r2 = LR().fit(data_xx, data_y)\n",
    "# print(r2.intercept_, r2.coef_)\n",
    "\n",
    "# 打印\n",
    "print(\"原始数据回归方程系数为\", r1[0])\n",
    "print(\"主成分回归方程系数为  \", r2[0])\n",
    "print(\"标准化变量方程系数为  \", r22)\n",
    "print(\"转化成原始自变量系数为\", r23)"
   ]
  }
 ],
 "metadata": {
  "kernelspec": {
   "display_name": "Python 3 (ipykernel)",
   "language": "python",
   "name": "python3"
  },
  "language_info": {
   "codemirror_mode": {
    "name": "ipython",
    "version": 3
   },
   "file_extension": ".py",
   "mimetype": "text/x-python",
   "name": "python",
   "nbconvert_exporter": "python",
   "pygments_lexer": "ipython3",
   "version": "3.9.4"
  }
 },
 "nbformat": 4,
 "nbformat_minor": 5
}
